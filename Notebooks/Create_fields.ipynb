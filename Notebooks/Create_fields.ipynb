{
 "cells": [
  {
   "cell_type": "code",
   "execution_count": 1,
   "id": "23e10fd3",
   "metadata": {},
   "outputs": [],
   "source": [
    "#this notebook should interpolate the density fields from Quijote and output the saved files to Quijote_fields\n",
    "\n",
    "#plots the theta binned bispectrum multipoles - saved to a dict with same formalism as Run_equalateral\n",
    "import numpy as np\n",
    "import sys\n",
    "sys.path.append('/home/addis/PkBk/Scripts')\n",
    "import get_field as gf\n",
    "from matplotlib import pyplot as plt\n",
    "from tqdm import tqdm\n",
    "import multiprocessing\n",
    "\n",
    "path = '../../../data/Quijote/' #path to folder containing quijote files.\n",
    "N_side = 256\n",
    "rsd ='yes'\n",
    "\n",
    "redshift = '/snapdir_004/snap_004'\n",
    "if redshift[-1] == str(4):\n",
    "    red_info = 'z=0'\n",
    "elif redshift[-1] == str(2):\n",
    "    red_info = 'z=1'\n",
    "else:\n",
    "    red_info = 'z=NA'"
   ]
  },
  {
   "cell_type": "code",
   "execution_count": 2,
   "id": "39ffa3f0",
   "metadata": {},
   "outputs": [
    {
     "name": "stdout",
     "output_type": "stream",
     "text": [
      "256\n"
     ]
    }
   ],
   "source": [
    "print(N_side)"
   ]
  },
  {
   "cell_type": "code",
   "execution_count": 11,
   "id": "d91f030d",
   "metadata": {},
   "outputs": [
    {
     "name": "stderr",
     "output_type": "stream",
     "text": [
      "100%|██████████| 100/100 [27:46<00:00, 16.67s/it]\n"
     ]
    }
   ],
   "source": [
    "def wrap_field(inputs):\n",
    "    realisation = str(10000 + inputs)\n",
    "    field_tmp = gf.load_field_pylians_PP(path,realisation + redshift, N_side,rsd,obs_pos,verbose)#load pos velocity and add non-PP RSD - then interpolate with Pylians\n",
    "    np.save(path + 'fields_extra/' + realisation + '_' + red_info + '_' + str(N_side)+fieldadd,field_tmp)#\n",
    "    \n",
    "obs_pos = [500,500,-500]\n",
    "verbose = False\n",
    "fieldadd = '_LOS='+'-500'#''#\n",
    "rsd='yes'    \n",
    "    \n",
    "#start multiprocessing \n",
    "pool = multiprocessing.Pool(processes=10)#set up pool\n",
    "inputs = [(i) for i in range(0, 100)] #define list of inputs\n",
    "result = np.array(list(tqdm(pool.imap(wrap_field, inputs), total=100)))\n",
    "pool.close()\n",
    "pool.join()"
   ]
  },
  {
   "cell_type": "code",
   "execution_count": 23,
   "id": "ba8d85e2",
   "metadata": {},
   "outputs": [],
   "source": [
    "obs_list = [[500,500,500],[500,500,0],[500,500,-500],[500,500,-1e+10],[500,500,-1e+10]]\n",
    "field_list = ['Cen','0','-500','PP','real']"
   ]
  },
  {
   "cell_type": "code",
   "execution_count": 48,
   "id": "8e84cba8",
   "metadata": {},
   "outputs": [],
   "source": [
    "#obs_list = [[500,0,0],[0,0,0],[500,500,-1000],[500,0,500]]\n",
    "#field_list = ['00','000','-1000','0_other']\n",
    "#obs_list = [[500,500,250],[500,500,-250],[500,500,-100]]\n",
    "#field_list = ['250','-250','-100']\n",
    "\n",
    "#obs_list = [[500,500,100],[500,500,400],[500,500,-400],[250,250,250]]\n",
    "f#ield_list = ['100','400','-400','250_all']"
   ]
  },
  {
   "cell_type": "code",
   "execution_count": 49,
   "id": "dd217c07",
   "metadata": {},
   "outputs": [
    {
     "name": "stderr",
     "output_type": "stream",
     "text": [
      "100%|██████████| 100/100 [1:09:51<00:00, 41.91s/it]\n",
      "100%|██████████| 100/100 [1:09:28<00:00, 41.68s/it]\n",
      "100%|██████████| 100/100 [1:10:46<00:00, 42.46s/it]\n",
      "100%|██████████| 100/100 [1:10:33<00:00, 42.34s/it]\n"
     ]
    }
   ],
   "source": [
    "#load Quijote realiation and interpolate with pylians\n",
    "verbose=False\n",
    "\n",
    "path1 = '../../data_tmp/' #path to folder containing quijote files.\n",
    "redshift = '/snap_004'\n",
    "redshift = '/snapdir_004/snap_004'\n",
    "\n",
    "#so now iterate all the fields we want to create!!!!!\n",
    "for j in range(len(obs_list)):\n",
    "    obs_pos = obs_list[j]\n",
    "    field = field_list[j]\n",
    "    fieldadd = '_LOS='+field\n",
    "    rsd='yes'\n",
    "    \n",
    "    if field == 'real':#real has weird name conventions i aint gonna change now\n",
    "        rsd='no'\n",
    "        fieldadd = ''\n",
    "        \n",
    "    for i in tqdm(range(0,100)):\n",
    "        realisation = str(10000 + i)\n",
    "        field_tmp = gf.load_field_pylians(path,realisation + redshift, N_side,rsd,obs_pos,verbose)#load pos velocity and add non-PP RSD - then interpolate with Pylians\n",
    "        np.save(path + 'fields_CIC/' + realisation + '_' + red_info + '_' + str(N_side)+fieldadd,field_tmp)#"
   ]
  }
 ],
 "metadata": {
  "kernelspec": {
   "display_name": "Python 3",
   "language": "python",
   "name": "python3"
  },
  "language_info": {
   "codemirror_mode": {
    "name": "ipython",
    "version": 3
   },
   "file_extension": ".py",
   "mimetype": "text/x-python",
   "name": "python",
   "nbconvert_exporter": "python",
   "pygments_lexer": "ipython3",
   "version": "3.8.8"
  }
 },
 "nbformat": 4,
 "nbformat_minor": 5
}
